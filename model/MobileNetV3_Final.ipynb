{
 "cells": [
  {
   "cell_type": "code",
   "execution_count": null,
   "id": "b4e159fe",
   "metadata": {},
   "outputs": [
    {
     "name": "stdout",
     "output_type": "stream",
     "text": [
      "Running on cuda\n"
     ]
    }
   ],
   "source": [
    "\n",
    "\n",
    "import random, os, math, time, itertools\n",
    "from pathlib import Path\n",
    "import cv2, numpy as np\n",
    "import matplotlib.pyplot as plt\n",
    "from tqdm import tqdm\n",
    "\n",
    "import torch, torch.nn as nn, torch.nn.functional as F\n",
    "from torch.utils.data import Dataset, DataLoader\n",
    "from torch.optim.lr_scheduler import ReduceLROnPlateau\n",
    "from torchmetrics import Accuracy, ConfusionMatrix\n",
    "from torch.cuda.amp import autocast, GradScaler\n",
    "torch.manual_seed(42);  np.random.seed(42);  random.seed(42)\n",
    "DEVICE = 'cuda' if torch.cuda.is_available() else 'cpu'\n",
    "print('Running on', DEVICE)\n"
   ]
  },
  {
   "cell_type": "code",
   "execution_count": null,
   "id": "5cab446e",
   "metadata": {},
   "outputs": [],
   "source": [
    "\n",
    "DATA_ROOT     = Path('/mnt/c/Users/ezycloudx-admin/Documents/big-data/Complete Dataset')   # train/ , val/ sub-dirs\n",
    "IMG_SIZE      = 112        # as in paper\n",
    "CLIP_LEN      = 10         # frames\n",
    "SEGMENTS      = 1          # contiguous clip\n",
    "BATCH_SIZE    = 8\n",
    "EPOCHS        = 100\n",
    "LR_INIT       = 1e-3\n",
    "WD            = 1e-5\n",
    "PATIENCE_ES   = 10         # early stop\n",
    "PATIENCE_LR   = 5\n",
    "LR_DROP       = 0.5\n",
    "NUM_WORKERS   = 4"
   ]
  },
  {
   "cell_type": "code",
   "execution_count": null,
   "id": "0fdb45c3",
   "metadata": {},
   "outputs": [],
   "source": [
    "\n",
    "def sample_clip(video_path:Path, num_frames=CLIP_LEN):\n",
    "    cap = cv2.VideoCapture(str(video_path))\n",
    "    if not cap.isOpened():\n",
    "        raise RuntimeError(f'Cannot open {video_path}')\n",
    "    length = int(cap.get(cv2.CAP_PROP_FRAME_COUNT))\n",
    "    if length < num_frames:\n",
    "        indices = list(range(length)) + [length-1]*(num_frames-length)\n",
    "    else:\n",
    "        start = random.randint(0, length-num_frames)\n",
    "        indices = list(range(start, start+num_frames))\n",
    "    frames=[]\n",
    "    for idx in indices:\n",
    "        cap.set(cv2.CAP_PROP_POS_FRAMES, idx)\n",
    "        ok, frame = cap.read()\n",
    "        if not ok: frame = frames[-1]\n",
    "        frame = cv2.cvtColor(frame, cv2.COLOR_BGR2RGB)\n",
    "        frame = cv2.resize(frame, (IMG_SIZE, IMG_SIZE))\n",
    "        frames.append(frame)\n",
    "    cap.release()\n",
    "    return np.stack(frames)            # (T,H,W,3)\n"
   ]
  },
  {
   "cell_type": "code",
   "execution_count": null,
   "id": "718a91d9",
   "metadata": {},
   "outputs": [
    {
     "name": "stdout",
     "output_type": "stream",
     "text": [
      "Classes: ['Fight', 'HockeyFight', 'MovieFights', 'NonFight']\n"
     ]
    }
   ],
   "source": [
    "\n",
    "import albumentations as A\n",
    "RGB_TRAIN = A.Compose([\n",
    "    A.HorizontalFlip(p=.5),\n",
    "    A.ColorJitter(.1,.1,.1,.1,p=.6),\n",
    "    A.Normalize(mean=(0.485,0.456,0.406),\n",
    "                std=(0.229,0.224,0.225))\n",
    "])\n",
    "RGB_VAL   = A.Compose([\n",
    "    A.Normalize(mean=(0.485,0.456,0.406),\n",
    "                std=(0.229,0.224,0.225))\n",
    "])\n",
    "\n",
    "TRAIN_DIR = DATA_ROOT/'train'; VAL_DIR = DATA_ROOT/'val'\n",
    "CLASS_NAMES = sorted([d.name for d in TRAIN_DIR.iterdir() if d.is_dir()])\n",
    "NUM_CLASSES = len(CLASS_NAMES)\n",
    "print('Classes:', CLASS_NAMES)\n",
    "\n",
    "def gather(root):\n",
    "    exts = ('*.mp4','*.avi','*.mkv','*.flv','*.webm')\n",
    "    lst=[]\n",
    "    for cname in CLASS_NAMES:\n",
    "        for e in exts:\n",
    "            lst += [(p, CLASS_NAMES.index(cname)) for p in (root/cname).glob(e)]\n",
    "    random.shuffle(lst);  return lst\n",
    "\n",
    "class ViolenceDS(Dataset):\n",
    "    def __init__(self, samples, aug):\n",
    "        self.samples=samples; self.aug=aug\n",
    "    def __len__(self): return len(self.samples)\n",
    "    def __getitem__(self,idx):\n",
    "        path,y = self.samples[idx]\n",
    "        clip   = sample_clip(path)                      # (T,H,W,3)\n",
    "        clip   = np.stack([self.aug(image=f)['image'] for f in clip])\n",
    "        clip   = torch.from_numpy(clip).permute(0,3,1,2).float()\n",
    "        return clip, y\n",
    "\n",
    "train_samp = gather(TRAIN_DIR); val_samp = gather(VAL_DIR)\n",
    "train_ds = ViolenceDS(train_samp, RGB_TRAIN)\n",
    "val_ds   = ViolenceDS(val_samp,   RGB_VAL)\n",
    "train_loader = DataLoader(train_ds, BATCH_SIZE, shuffle=True,\n",
    "                          num_workers=NUM_WORKERS, pin_memory=True)\n",
    "val_loader   = DataLoader(val_ds,   BATCH_SIZE, shuffle=False,\n",
    "                          num_workers=NUM_WORKERS, pin_memory=True)\n"
   ]
  },
  {
   "cell_type": "code",
   "execution_count": null,
   "id": "001e3226",
   "metadata": {},
   "outputs": [],
   "source": [
    "\n",
    "class TemporalShift(nn.Module):\n",
    "    def __init__(self,n_div=4): super().__init__(); self.n_div=n_div\n",
    "    def forward(self,x):                            # (B,T,C,H,W)\n",
    "        B,T,C,H,W = x.size(); f=C//self.n_div\n",
    "        out = torch.zeros_like(x)\n",
    "        out[:,1:,:f]     = x[:,:-1,:f]\n",
    "        out[:,:-1,f:2*f] = x[:,1:,f:2*f]\n",
    "        out[:,:,2*f:]    = x[:,:,2*f:]\n",
    "        return out\n"
   ]
  },
  {
   "cell_type": "code",
   "execution_count": null,
   "id": "4b8e0047",
   "metadata": {},
   "outputs": [
    {
     "name": "stderr",
     "output_type": "stream",
     "text": [
      "Unexpected keys (classifier.bias, classifier.weight, conv_head.bias, conv_head.weight) found while loading pretrained weights. This may be expected if model is being adapted.\n"
     ]
    },
    {
     "name": "stdout",
     "output_type": "stream",
     "text": [
      "Params: 0.765221 M\n"
     ]
    }
   ],
   "source": [
    "\n",
    "import timm\n",
    "\n",
    "# ---- revised Bi-LTMA -------------------------------------------\n",
    "class BiLTMA(nn.Module):\n",
    "    def __init__(self, ch, r=2):\n",
    "        super().__init__()\n",
    "        self.reduce  = nn.Conv2d(ch, ch//r, 1, bias=False)\n",
    "        self.offset  = nn.Conv2d(ch//r, ch//r, 3, padding=1, bias=False)\n",
    "        self.restore = nn.Conv2d(ch//r*2, ch, 1, bias=False)\n",
    "\n",
    "    def forward(self, feat):                # feat (B,T,C,H,W)\n",
    "        B, T, C, H, W = feat.size()\n",
    "\n",
    "        # 1) channel squeeze  -------------------------------\n",
    "        f = self.reduce(feat.view(B*T, C, H, W))            # (B*T,C',H,W)\n",
    "        C_ = f.size(1)\n",
    "        f = f.view(B, T, C_, H, W)\n",
    "\n",
    "        # 2) forward / backward frame diffs -----------------\n",
    "        f_fwd = self.offset(f[:, 1:].reshape(-1, C_, H, W)) \\\n",
    "                .view(B, T-1, C_, H, W) - f[:, :-1]          # (B,T-1,C',H,W)\n",
    "        f_bwd = self.offset(f[:, :-1].reshape(-1, C_, H, W)) \\\n",
    "                .view(B, T-1, C_, H, W) - f[:, 1:]\n",
    "\n",
    "        pad = torch.zeros_like(f_fwd[:, :1])\n",
    "        f_fwd = torch.cat([f_fwd, pad], dim=1)   # (B,T,C',H,W)\n",
    "        f_bwd = torch.cat([pad,  f_bwd], dim=1)\n",
    "\n",
    "        # 3) concat → restore channels → sigmoid mask -------\n",
    "        att = torch.sigmoid(\n",
    "                self.restore(\n",
    "                    torch.cat([f_fwd, f_bwd], dim=2)    # (B,T,2C',H,W)\n",
    "                          .view(B*T, 2*C_, H, W)\n",
    "                )).view(B, T, C, H, W)\n",
    "\n",
    "        return att * feat                                # gated features\n",
    "\n",
    "\n",
    "class Head(nn.Module):\n",
    "    def __init__(self, in_ch, n_cls):\n",
    "        super().__init__()\n",
    "        self.lstm = nn.LSTM(in_ch, 64, bidirectional=True,\n",
    "                            batch_first=True)\n",
    "        self.att  = nn.Linear(128,1)\n",
    "        self.fc   = nn.Linear(128, n_cls)\n",
    "    def forward(self,x):            # (B,T,C)\n",
    "        h,_ = self.lstm(x);  α = torch.softmax(torch.tanh(self.att(h)),1)\n",
    "        ctx = (α*h).sum(1)\n",
    "        return self.fc(ctx)\n",
    "\n",
    "class MobileNetV3_BiLTMA(nn.Module):\n",
    "    def __init__(self, n_cls=NUM_CLASSES):\n",
    "        super().__init__()\n",
    "        self.backbone = timm.create_model('mobilenetv3_small_050',\n",
    "                                          pretrained=True, features_only=True,\n",
    "                                          out_indices=[-1])\n",
    "        ch = self.backbone.feature_info.channels()[-1]      # 288\n",
    "        self.tsm   = TemporalShift(4)\n",
    "        self.pool  = nn.AdaptiveAvgPool2d(1)\n",
    "        self.biltma= BiLTMA(ch)\n",
    "        self.head  = Head(ch, n_cls)\n",
    "    def forward(self,x):             # (B,T,C,H,W)\n",
    "        B,T,C,H,W = x.shape\n",
    "        x = self.tsm(x).view(B*T,C,H,W)\n",
    "        # ---- single-line tweak in MobileNetV3_BiLTMA.forward ------------\n",
    "        f = self.backbone(x)[0]                        # (B*T,288,h,w)\n",
    "        f = self.pool(f).view(B, T, -1, 1, 1)          # keep as 5-D\n",
    "        f = self.biltma(f).squeeze(-1).squeeze(-1)     # apply LTMA ▶ (B,T,288)\n",
    "\n",
    "        return self.head(f)\n",
    "\n",
    "model = MobileNetV3_BiLTMA().to(DEVICE)\n",
    "print('Params:', sum(p.numel() for p in model.parameters())/1e6, 'M')\n"
   ]
  },
  {
   "cell_type": "code",
   "execution_count": null,
   "id": "d3558764",
   "metadata": {},
   "outputs": [],
   "source": [
    "\n",
    "criterion = nn.CrossEntropyLoss()\n",
    "acc_metric     = Accuracy(task='multiclass', num_classes=NUM_CLASSES).to(DEVICE)\n",
    "confmat_metric = ConfusionMatrix(task='multiclass', num_classes=NUM_CLASSES).to(DEVICE)\n"
   ]
  },
  {
   "cell_type": "code",
   "execution_count": null,
   "id": "9b9a2632",
   "metadata": {},
   "outputs": [],
   "source": [
    "\n",
    "def train_epoch(model, loader, opt, scaler):\n",
    "    model.train();  acc_metric.reset();  run=0\n",
    "    for clips, y in tqdm(loader, leave=False):\n",
    "        clips, y = clips.to(DEVICE), y.to(DEVICE)\n",
    "        with autocast():\n",
    "            out = model(clips);  loss = criterion(out, y)\n",
    "        opt.zero_grad(set_to_none=True)\n",
    "        scaler.scale(loss).backward()\n",
    "        scaler.step(opt); scaler.update()\n",
    "        run += loss.item()*clips.size(0); acc_metric.update(out,y)\n",
    "    return run/len(loader.dataset), acc_metric.compute().item()\n",
    "\n",
    "@torch.no_grad()\n",
    "def eval_epoch(model, loader):\n",
    "    model.eval();  acc_metric.reset(); confmat_metric.reset(); run=0\n",
    "    for clips, y in tqdm(loader, leave=False):\n",
    "        clips, y = clips.to(DEVICE), y.to(DEVICE)\n",
    "        with autocast(): out = model(clips); loss = criterion(out,y)\n",
    "        run += loss.item()*clips.size(0)\n",
    "        acc_metric.update(out,y); confmat_metric.update(out,y)\n",
    "    return run/len(loader.dataset), acc_metric.compute().item(), confmat_metric.compute()\n"
   ]
  },
  {
   "cell_type": "code",
   "execution_count": null,
   "id": "24db69a2",
   "metadata": {},
   "outputs": [
    {
     "name": "stderr",
     "output_type": "stream",
     "text": [
      "/tmp/ipykernel_1064380/2923480458.py:4: FutureWarning: `torch.cuda.amp.GradScaler(args...)` is deprecated. Please use `torch.amp.GradScaler('cuda', args...)` instead.\n",
      "  scaler = GradScaler()\n",
      "  0%|          | 0/324 [00:00<?, ?it/s]/tmp/ipykernel_1064380/3446479923.py:8: FutureWarning: `torch.cuda.amp.autocast(args...)` is deprecated. Please use `torch.amp.autocast('cuda', args...)` instead.\n",
      "  with autocast():\n",
      "  0%|          | 0/86 [00:00<?, ?it/s]           /tmp/ipykernel_1064380/3446479923.py:21: FutureWarning: `torch.cuda.amp.autocast(args...)` is deprecated. Please use `torch.amp.autocast('cuda', args...)` instead.\n",
      "  with autocast(): out = model(clips); loss = criterion(out,y)\n",
      "                                               \r"
     ]
    },
    {
     "name": "stdout",
     "output_type": "stream",
     "text": [
      "Epoch 001: train_acc=0.643  val_acc=0.745  lr=1.00e-03\n",
      "  ✅ best model saved\n"
     ]
    },
    {
     "name": "stderr",
     "output_type": "stream",
     "text": [
      "                                                 \r"
     ]
    },
    {
     "name": "stdout",
     "output_type": "stream",
     "text": [
      "Epoch 002: train_acc=0.735  val_acc=0.688  lr=1.00e-03\n"
     ]
    },
    {
     "name": "stderr",
     "output_type": "stream",
     "text": [
      "                                                 \r"
     ]
    },
    {
     "name": "stdout",
     "output_type": "stream",
     "text": [
      "Epoch 003: train_acc=0.761  val_acc=0.575  lr=1.00e-03\n"
     ]
    },
    {
     "name": "stderr",
     "output_type": "stream",
     "text": [
      "                                                 \r"
     ]
    },
    {
     "name": "stdout",
     "output_type": "stream",
     "text": [
      "Epoch 004: train_acc=0.793  val_acc=0.676  lr=1.00e-03\n"
     ]
    },
    {
     "name": "stderr",
     "output_type": "stream",
     "text": [
      "                                                 \r"
     ]
    },
    {
     "name": "stdout",
     "output_type": "stream",
     "text": [
      "Epoch 005: train_acc=0.803  val_acc=0.728  lr=1.00e-03\n"
     ]
    },
    {
     "name": "stderr",
     "output_type": "stream",
     "text": [
      "                                                 \r"
     ]
    },
    {
     "name": "stdout",
     "output_type": "stream",
     "text": [
      "Epoch 006: train_acc=0.811  val_acc=0.693  lr=1.00e-03\n"
     ]
    },
    {
     "name": "stderr",
     "output_type": "stream",
     "text": [
      "                                                 \r"
     ]
    },
    {
     "name": "stdout",
     "output_type": "stream",
     "text": [
      "Epoch 007: train_acc=0.820  val_acc=0.693  lr=1.00e-03\n"
     ]
    },
    {
     "name": "stderr",
     "output_type": "stream",
     "text": [
      "                                                 \r"
     ]
    },
    {
     "name": "stdout",
     "output_type": "stream",
     "text": [
      "Epoch 008: train_acc=0.838  val_acc=0.739  lr=1.00e-03\n"
     ]
    },
    {
     "name": "stderr",
     "output_type": "stream",
     "text": [
      "                                                 \r"
     ]
    },
    {
     "name": "stdout",
     "output_type": "stream",
     "text": [
      "Epoch 009: train_acc=0.845  val_acc=0.708  lr=1.00e-03\n"
     ]
    },
    {
     "name": "stderr",
     "output_type": "stream",
     "text": [
      "                                                 \r"
     ]
    },
    {
     "name": "stdout",
     "output_type": "stream",
     "text": [
      "Epoch 010: train_acc=0.858  val_acc=0.661  lr=1.00e-03\n"
     ]
    },
    {
     "name": "stderr",
     "output_type": "stream",
     "text": [
      "                                                 \r"
     ]
    },
    {
     "name": "stdout",
     "output_type": "stream",
     "text": [
      "Epoch 011: train_acc=0.857  val_acc=0.699  lr=5.00e-04\n",
      "Early stopping 🔚\n"
     ]
    },
    {
     "data": {
      "image/png": "[encoded data removed]",
      "text/plain": [
       "<Figure size 1200x400 with 2 Axes>"
      ]
     },
     "metadata": {},
     "output_type": "display_data"
    },
    {
     "name": "stdout",
     "output_type": "stream",
     "text": [
      "Confusion matrix:\n",
      " [[178   0  22  75]\n",
      " [  0  98   1   1]\n",
      " [  0   0  33   2]\n",
      " [ 75   9  21 170]]\n"
     ]
    }
   ],
   "source": [
    "\n",
    "scaler = GradScaler()\n",
    "optimizer = torch.optim.AdamW(model.parameters(), lr=LR_INIT, weight_decay=WD)\n",
    "scheduler = ReduceLROnPlateau(\n",
    "    optimizer,\n",
    "    factor=LR_DROP,\n",
    "    patience=PATIENCE_LR\n",
    ")\n",
    "\n",
    "best_acc, epochs_no_improve = 0, 0\n",
    "hist={'tl':[],'vl':[],'ta':[],'va':[]}\n",
    "\n",
    "for epoch in range(1, EPOCHS+1):\n",
    "    tl,ta = train_epoch(model,train_loader,optimizer,scaler)\n",
    "    vl,va,cm = eval_epoch(model,val_loader)\n",
    "    scheduler.step(vl)\n",
    "\n",
    "    hist['tl'].append(tl); hist['vl'].append(vl)\n",
    "    hist['ta'].append(ta); hist['va'].append(va)\n",
    "    print(f'Epoch {epoch:03d}: train_acc={ta:.3f}  val_acc={va:.3f}  '\n",
    "          f'lr={optimizer.param_groups[0][\"lr\"]:.2e}')\n",
    "\n",
    "    if va > best_acc:\n",
    "        best_acc = va; epochs_no_improve = 0\n",
    "        torch.save(model.state_dict(), 'best_biltma.pt')\n",
    "        print('  ✅ best model saved')\n",
    "    else:\n",
    "        epochs_no_improve += 1\n",
    "        if epochs_no_improve >= PATIENCE_ES:\n",
    "            print('Early stopping 🔚'); break\n",
    "\n",
    "plt.figure(figsize=(12,4))\n",
    "plt.subplot(1,2,1); plt.title('Loss'); plt.plot(hist['tl'],label='train'); plt.plot(hist['vl'],label='val'); plt.legend()\n",
    "plt.subplot(1,2,2); plt.title('Acc');  plt.plot(hist['ta'],label='train'); plt.plot(hist['va'],label='val'); plt.legend(); plt.show()\n",
    "print('Confusion matrix:\\n', cm.cpu().numpy())\n"
   ]
  },
  {
   "cell_type": "code",
   "execution_count": 131,
   "id": "81f9383f",
   "metadata": {},
   "outputs": [
    {
     "name": "stdout",
     "output_type": "stream",
     "text": [
      "              precision    recall  f1-score   support\n",
      "\n",
      "       Fight       0.69      0.95      0.80       275\n",
      " HockeyFight       0.79      0.97      0.87       100\n",
      " MovieFights       0.49      0.77      0.60        35\n",
      "    NonFight       0.94      0.44      0.60       275\n",
      "\n",
      "    accuracy                           0.74       685\n",
      "   macro avg       0.73      0.78      0.72       685\n",
      "weighted avg       0.80      0.74      0.72       685\n",
      "\n"
     ]
    }
   ],
   "source": [
    "# ================================================================\n",
    "# 📊 Cell 10 — Classification report\n",
    "# ================================================================\n",
    "from sklearn.metrics import classification_report\n",
    "model.load_state_dict(torch.load('best_biltma.pt')); model.eval()\n",
    "y_true,y_pred=[],[]\n",
    "with torch.no_grad():\n",
    "    for clips,y in val_loader:\n",
    "        logits = model(clips.to(DEVICE))\n",
    "        y_pred+= torch.argmax(logits,1).cpu().tolist(); y_true+=y.tolist()\n",
    "print(classification_report(y_true,y_pred,target_names=CLASS_NAMES))\n"
   ]
  },
  {
   "cell_type": "code",
   "execution_count": 134,
   "id": "f32a4ec5",
   "metadata": {},
   "outputs": [
    {
     "data": {
      "image/png": "[encoded data removed]",
      "text/plain": [
       "<Figure size 640x480 with 2 Axes>"
      ]
     },
     "metadata": {},
     "output_type": "display_data"
    }
   ],
   "source": [
    "# Confusion matrix\n",
    "cm = confusion_matrix(y_true, y_pred)\n",
    "disp = ConfusionMatrixDisplay(confusion_matrix=cm, display_labels=CLASS_NAMES)\n",
    "disp.plot(xticks_rotation=45, cmap='Blues')\n",
    "plt.title('Confusion Matrix')\n",
    "plt.grid(False)\n",
    "plt.tight_layout()\n",
    "plt.show()"
   ]
  }
 ],
 "metadata": {
  "kernelspec": {
   "display_name": "tf (3.10.13)",
   "language": "python",
   "name": "python3"
  },
  "language_info": {
   "codemirror_mode": {
    "name": "ipython",
    "version": 3
   },
   "file_extension": ".py",
   "mimetype": "text/x-python",
   "name": "python",
   "nbconvert_exporter": "python",
   "pygments_lexer": "ipython3",
   "version": "3.10.13"
  }
 },
 "nbformat": 4,
 "nbformat_minor": 5
}
